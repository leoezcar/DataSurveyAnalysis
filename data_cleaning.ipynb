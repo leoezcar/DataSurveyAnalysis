{
 "cells": [
  {
   "cell_type": "code",
   "execution_count": 1,
   "metadata": {},
   "outputs": [],
   "source": [
    "import pandas as pd"
   ]
  },
  {
   "cell_type": "code",
   "execution_count": 60,
   "metadata": {},
   "outputs": [],
   "source": [
    "df = pd.read_excel('por_lenguaje.xlsx', sheet_name='data_y_techs')\n",
    "df_only_tech = df.drop(columns='trabajo_actual')\n",
    "df_only_tech = pd.melt(df_only_tech)\n",
    "stripped_only_tech = pd.Series(df_only_tech['value']).str.strip().str.lower()\n",
    "all_techs_df = pd.DataFrame(stripped_only_tech).dropna()\n",
    "all_techs = all_techs_df.value_counts().reset_index()\n",
    "all_techs.columns = ['Tecnología', 'Cantidad']\n",
    "all_techs['Tecnología'] = all_techs['Tecnología'].str.title()\n",
    "all_techs.to_excel('conteo_de_tecnologias.xlsx', index=False)"
   ]
  }
 ],
 "metadata": {
  "kernelspec": {
   "display_name": "Python (myenv)",
   "language": "python",
   "name": "myenv"
  },
  "language_info": {
   "codemirror_mode": {
    "name": "ipython",
    "version": 3
   },
   "file_extension": ".py",
   "mimetype": "text/x-python",
   "name": "python",
   "nbconvert_exporter": "python",
   "pygments_lexer": "ipython3",
   "version": "3.12.0"
  }
 },
 "nbformat": 4,
 "nbformat_minor": 2
}
